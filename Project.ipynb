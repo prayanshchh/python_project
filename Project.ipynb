{
 "cells": [
  {
   "cell_type": "code",
   "execution_count": 166,
   "id": "f98385f5",
   "metadata": {},
   "outputs": [],
   "source": [
    "import pandas as pd"
   ]
  },
  {
   "cell_type": "code",
   "execution_count": 167,
   "id": "c3e815f8",
   "metadata": {},
   "outputs": [],
   "source": [
    "df = pd.read_excel(r\"C:\\Users\\Lenovo\\OneDrive\\Desktop\\Projectfile.xlsx\")\n",
    "df_cleaned = df.dropna()"
   ]
  },
  {
   "cell_type": "code",
   "execution_count": 168,
   "id": "b5a511b7",
   "metadata": {},
   "outputs": [
    {
     "name": "stdout",
     "output_type": "stream",
     "text": [
      "     Unnamed: 0           Unnamed: 1        Unnamed: 2           Unnamed: 3  \\\n",
      "2  Student Name  Registration Number      Program Name            Exam Date   \n",
      "3    Amit Kumar               123452  BI Certification  2020-01-24 00:00:00   \n",
      "\n",
      "  Unnamed: 4 Unnamed: 5 Unnamed: 6 Unnamed: 7 Unnamed: 8 Unnamed: 9  \\\n",
      "2      Marks     Result      Marks     Result      Marks     Result   \n",
      "3         AB       Fail         61       Pass         71       Pass   \n",
      "\n",
      "  Unnamed: 10 Unnamed: 11 Unnamed: 12 Unnamed: 13  Unnamed: 14 Unnamed: 15  \n",
      "2       Marks      Result       Marks      Result  Grand Total       Grade  \n",
      "3          62        Pass          84        Pass          278           F  \n"
     ]
    }
   ],
   "source": [
    "print(df_cleaned.head(2))"
   ]
  },
  {
   "cell_type": "markdown",
   "id": "57985fb4",
   "metadata": {},
   "source": []
  },
  {
   "cell_type": "code",
   "execution_count": 169,
   "id": "8924953e",
   "metadata": {
    "scrolled": true
   },
   "outputs": [
    {
     "name": "stdout",
     "output_type": "stream",
     "text": [
      "        Unnamed: 0           Unnamed: 1        Unnamed: 2  \\\n",
      "2     Student Name  Registration Number      Program Name   \n",
      "3       Amit Kumar               123452  BI Certification   \n",
      "4     Rohan Sharma               145623  BI Certification   \n",
      "5        Alex Grey               159826  BI Certification   \n",
      "6  Md. Faizal Khan               158496  BI Certification   \n",
      "\n",
      "            Unnamed: 3 Statistics & Probability Statistics & Probability  \\\n",
      "2            Exam Date                    Marks                   Result   \n",
      "3  2020-01-24 00:00:00                       AB                     Fail   \n",
      "4  2019-12-01 00:00:00                       90                     Pass   \n",
      "5  2020-03-28 00:00:00                       85                     Pass   \n",
      "6  2019-04-01 00:00:00                       86                     Pass   \n",
      "\n",
      "  Microsoft Excel Microsoft Excel    VBA     VBA    SQL     SQL Power BI  \\\n",
      "2           Marks          Result  Marks  Result  Marks  Result    Marks   \n",
      "3              61            Pass     71    Pass     62    Pass       84   \n",
      "4              80            Pass     71    Pass     89    Pass       65   \n",
      "5              NS            Fail     85    Pass     88    Pass       95   \n",
      "6              74            Pass     64    Pass     81    Pass       64   \n",
      "\n",
      "  Power BI  Unnamed: 14 Unnamed: 15  \n",
      "2   Result  Grand Total       Grade  \n",
      "3     Pass          278           F  \n",
      "4     Pass          395           B  \n",
      "5     Pass          353           F  \n",
      "6     Pass          369           C  \n"
     ]
    }
   ],
   "source": [
    "new_column_names = {\n",
    "   \n",
    "    'Unnamed: 4' : 'Statistics & Probability',\n",
    "    'Unnamed: 5' : 'Statistics & Probability',\n",
    "    'Unnamed: 6' : 'Microsoft Excel',\n",
    "    'Unnamed: 7' : 'Microsoft Excel',\n",
    "    'Unnamed: 8' : 'VBA',\n",
    "    'Unnamed: 9' : 'VBA',\n",
    "    'Unnamed: 10' : 'SQL',\n",
    "    'Unnamed: 11' : 'SQL',\n",
    "    'Unnamed: 12' : 'Power BI',\n",
    "    'Unnamed: 13' : 'Power BI',\n",
    "\n",
    "}\n",
    "\n",
    "df_cleaned = df_cleaned.rename(columns=new_column_names) \n",
    "print(df_cleaned)"
   ]
  },
  {
   "cell_type": "code",
   "execution_count": 170,
   "id": "be9bf61e",
   "metadata": {},
   "outputs": [
    {
     "name": "stdout",
     "output_type": "stream",
     "text": [
      "Enter your name: Amit Kumar\n"
     ]
    }
   ],
   "source": [
    "Name = input(\"Enter your name: \")\n",
    "name_row = df_cleaned[df_cleaned['Unnamed: 0'] == Name]"
   ]
  },
  {
   "cell_type": "code",
   "execution_count": 171,
   "id": "18371896",
   "metadata": {},
   "outputs": [],
   "source": [
    "registration_number = name_row.iloc[0]['Unnamed: 1']"
   ]
  },
  {
   "cell_type": "code",
   "execution_count": 172,
   "id": "5882ce39",
   "metadata": {},
   "outputs": [],
   "source": [
    "program_name = name_row.iloc[0][\"Unnamed: 2\"]"
   ]
  },
  {
   "cell_type": "code",
   "execution_count": 173,
   "id": "1ba209af",
   "metadata": {},
   "outputs": [],
   "source": [
    "exam_date = name_row.iloc[0][\"Unnamed: 3\"]"
   ]
  },
  {
   "cell_type": "code",
   "execution_count": 174,
   "id": "b7913424",
   "metadata": {},
   "outputs": [],
   "source": [
    "grand_total = name_row.iloc[0][\"Unnamed: 14\"]"
   ]
  },
  {
   "cell_type": "code",
   "execution_count": 175,
   "id": "aacf41a1",
   "metadata": {},
   "outputs": [],
   "source": [
    "statistics_probability = 0\n",
    "result_statistics_probability = name_row.iloc[0]['Statistics & Probability'][1]\n",
    "if 'Fail' in result_statistics_probability:\n",
    "    statistics_probability = statistics_probability + 1"
   ]
  },
  {
   "cell_type": "code",
   "execution_count": 176,
   "id": "70f7da35",
   "metadata": {},
   "outputs": [],
   "source": [
    "microsoft_excel = 0\n",
    "result_microsoft_excel = name_row.iloc[0]['Microsoft Excel'][1]\n",
    "if 'Fail' in result_microsoft_excel:\n",
    "    microsoft_excel = microsoft_excel + 1"
   ]
  },
  {
   "cell_type": "code",
   "execution_count": 177,
   "id": "06d6b872",
   "metadata": {},
   "outputs": [],
   "source": [
    "VBA = 0\n",
    "result_VBA = name_row.iloc[0]['VBA'][1]\n",
    "if 'Fail' in result_VBA:\n",
    "    VBA = VBA + 1"
   ]
  },
  {
   "cell_type": "code",
   "execution_count": 178,
   "id": "706c9828",
   "metadata": {},
   "outputs": [],
   "source": [
    "SQL = 0\n",
    "result_SQL = name_row.iloc[0]['SQL'][1]\n",
    "if 'Fail' in result_SQL:\n",
    "    SQL = SQL + 1"
   ]
  },
  {
   "cell_type": "code",
   "execution_count": 179,
   "id": "4ba22e9b",
   "metadata": {},
   "outputs": [],
   "source": [
    "Power_BI = 0\n",
    "result_Power_BI = name_row.iloc[0]['Power BI'][1]\n",
    "if 'Fail' in result_Power_BI:\n",
    "    Power_BI = Power_BI + 1"
   ]
  },
  {
   "cell_type": "code",
   "execution_count": 180,
   "id": "fd9ee0ff",
   "metadata": {},
   "outputs": [],
   "source": [
    "with open( Name + \".txt\", 'w') as file:\n",
    "    file.write(f\"{Name} bearing registration number {registration_number},\\nenrolled in program {program_name} \\nhas appeared in final exams on {exam_date}.Student \\nhas qualified in the following courses: \")\n",
    "    \n",
    "    if(statistics_probability == 0):\n",
    "        file.write(\"Statistics Probablity, \")\n",
    "    if(microsoft_excel == 0):\n",
    "        file.write(\"Microsoft Excel, \")\n",
    "    if(VBA == 0):\n",
    "        file.write(\"VBA, \")\n",
    "    if(SQL == 0):\n",
    "        file.write(\"SQL, \")\n",
    "    if(Power_BI == 0):\n",
    "        file.write(\"Power B1\")\n",
    "\n",
    "    file.write(f\"\\nand have score grand total of {grand_total} marks.\")\n",
    "    \n",
    "\n",
    "    if(statistics_probability == 1):\n",
    "        file.write(f\"\\n \\nBut he failed Statistics & Probability. He may have to reappear for this exam.\")\n",
    "    if(microsoft_excel == 1):\n",
    "        file.write(f\"\\n \\nBut he failed Microsoft Excel. He may have to reappear for this exam.\")\n",
    "    if(VBA == 1):\n",
    "        file.write(f\"\\n \\nBut he failed VBA. He may have to reappear for this exam.\")\n",
    "    if(SQL == 1):\n",
    "        file.write(f\"\\n \\nBut he failed VBA. He may have to reappear for this exam\")\n",
    "    if(Power_BI == 1):\n",
    "        file.write(f\"\\n \\nBut he failed Power BI. He may have to reappear for this exam\")"
   ]
  },
  {
   "cell_type": "code",
   "execution_count": null,
   "id": "b4a57443",
   "metadata": {},
   "outputs": [],
   "source": []
  }
 ],
 "metadata": {
  "kernelspec": {
   "display_name": "Python 3 (ipykernel)",
   "language": "python",
   "name": "python3"
  },
  "language_info": {
   "codemirror_mode": {
    "name": "ipython",
    "version": 3
   },
   "file_extension": ".py",
   "mimetype": "text/x-python",
   "name": "python",
   "nbconvert_exporter": "python",
   "pygments_lexer": "ipython3",
   "version": "3.11.5"
  }
 },
 "nbformat": 4,
 "nbformat_minor": 5
}
